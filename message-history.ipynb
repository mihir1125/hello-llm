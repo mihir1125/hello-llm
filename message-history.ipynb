{
 "cells": [
  {
   "cell_type": "code",
   "execution_count": 1,
   "metadata": {},
   "outputs": [],
   "source": [
    "from dotenv import load_dotenv\n",
    "load_dotenv()\n",
    "from langchain_cohere import ChatCohere\n",
    "from langchain_core.messages import SystemMessage, HumanMessage, AIMessage"
   ]
  },
  {
   "cell_type": "code",
   "execution_count": 2,
   "metadata": {},
   "outputs": [],
   "source": [
    "model = ChatCohere(model=\"command-r\")"
   ]
  },
  {
   "cell_type": "markdown",
   "metadata": {},
   "source": [
    "# Making the model _stateful_"
   ]
  },
  {
   "cell_type": "code",
   "execution_count": null,
   "metadata": {},
   "outputs": [],
   "source": [
    "from langchain_core.chat_history import (\n",
    "    BaseChatMessageHistory,\n",
    "    InMemoryChatMessageHistory,\n",
    ")\n",
    "from langchain_core.runnables.history import RunnableWithMessageHistory"
   ]
  },
  {
   "cell_type": "code",
   "execution_count": null,
   "metadata": {},
   "outputs": [],
   "source": [
    "store = {} # Will store the messages against sessions id\n",
    "\n",
    "def get_session_history(session_id: str) -> BaseChatMessageHistory:\n",
    "    if session_id not in store:\n",
    "        store[session_id] = InMemoryChatMessageHistory()\n",
    "    return store[session_id]"
   ]
  },
  {
   "cell_type": "code",
   "execution_count": null,
   "metadata": {},
   "outputs": [],
   "source": [
    "with_message_history = RunnableWithMessageHistory(model, get_session_history)"
   ]
  },
  {
   "cell_type": "code",
   "execution_count": null,
   "metadata": {},
   "outputs": [],
   "source": [
    "config = {\n",
    "    \"configurable\": {\n",
    "        \"session_id\": \"a2b3c\",\n",
    "    },\n",
    "}\n",
    "\n",
    "response = with_message_history.invoke(\n",
    "    [HumanMessage(\"Hi! I'm Mark.\")],\n",
    "    config=config\n",
    ")\n",
    "\n",
    "response.content"
   ]
  },
  {
   "cell_type": "code",
   "execution_count": null,
   "metadata": {},
   "outputs": [],
   "source": [
    "response = with_message_history.invoke(\n",
    "    [HumanMessage(\"What's my name?\")],\n",
    "    config=config\n",
    ")\n",
    "\n",
    "response.content"
   ]
  },
  {
   "cell_type": "code",
   "execution_count": null,
   "metadata": {},
   "outputs": [],
   "source": [
    "store"
   ]
  },
  {
   "cell_type": "code",
   "execution_count": null,
   "metadata": {},
   "outputs": [],
   "source": [
    "response = with_message_history.invoke(\n",
    "    [HumanMessage(\"What's my name?\")],\n",
    "    config={\"configurable\":{\"session_id\": \"e2f3g\"}} # Passing a different config\n",
    ")\n",
    "response.content"
   ]
  },
  {
   "cell_type": "code",
   "execution_count": null,
   "metadata": {},
   "outputs": [],
   "source": [
    "store"
   ]
  },
  {
   "cell_type": "markdown",
   "metadata": {},
   "source": [
    "# Persisting state across runs"
   ]
  },
  {
   "cell_type": "markdown",
   "metadata": {},
   "source": [
    "## Session factory"
   ]
  },
  {
   "cell_type": "code",
   "execution_count": 3,
   "metadata": {},
   "outputs": [],
   "source": [
    "from pathlib import Path\n",
    "import re\n",
    "from typing import Callable, Union\n",
    "from langchain_community.chat_message_histories import FileChatMessageHistory\n",
    "from langchain_core.chat_history import BaseChatMessageHistory\n",
    "\n",
    "\n",
    "def _is_valid_identifier(value: str) -> bool:\n",
    "    \"\"\"Check if the value is a valid identifier.\"\"\"\n",
    "    # Use a regular expression to match the allowed characters\n",
    "    valid_characters = re.compile(r\"^[a-zA-Z0-9-_]+$\")\n",
    "    return bool(valid_characters.match(value))\n",
    "\n",
    "def create_session_factory(\n",
    "    base_dir: Union[str, Path],\n",
    ") -> Callable[[str], BaseChatMessageHistory]:\n",
    "    \"\"\"Create a factory that can retrieve chat histories.\n",
    "\n",
    "    The chat histories are keyed by user ID and conversation ID.\n",
    "\n",
    "    Args:\n",
    "        base_dir: Base directory to use for storing the chat histories.\n",
    "\n",
    "    Returns:\n",
    "        A factory that can retrieve chat histories keyed by user ID and conversation ID.\n",
    "    \"\"\"\n",
    "    base_dir_ = Path(base_dir) if isinstance(base_dir, str) else base_dir\n",
    "    if not base_dir_.exists():\n",
    "        base_dir_.mkdir(parents=True)\n",
    "\n",
    "    def get_chat_history(user_id: str, conversation_id: str) -> FileChatMessageHistory:\n",
    "        \"\"\"Get a chat history from a user id and conversation id.\"\"\"\n",
    "        if not _is_valid_identifier(user_id):\n",
    "            raise ValueError(\n",
    "                f\"User ID {user_id} is not in a valid format. \"\n",
    "                \"User ID must only contain alphanumeric characters, \"\n",
    "                \"hyphens, and underscores.\"\n",
    "                \"Please include a valid cookie in the request headers called 'user-id'.\"\n",
    "            )\n",
    "        if not _is_valid_identifier(conversation_id):\n",
    "            raise ValueError(\n",
    "                f\"Conversation ID {conversation_id} is not in a valid format. \"\n",
    "                \"Conversation ID must only contain alphanumeric characters, \"\n",
    "                \"hyphens, and underscores. Please provide a valid conversation id \"\n",
    "                \"via config. For example, \"\n",
    "                \"chain.invoke(.., {'configurable': {'conversation_id': '123'}})\"\n",
    "            )\n",
    "\n",
    "        user_dir = base_dir_ / user_id\n",
    "        if not user_dir.exists():\n",
    "            user_dir.mkdir(parents=True)\n",
    "        file_path = user_dir / f\"{conversation_id}.json\"\n",
    "        return FileChatMessageHistory(str(file_path))\n",
    "\n",
    "    return get_chat_history"
   ]
  },
  {
   "cell_type": "code",
   "execution_count": 4,
   "metadata": {},
   "outputs": [],
   "source": [
    "from typing import TypedDict\n",
    "\n",
    "\n",
    "class InputChat(TypedDict):\n",
    "    \"\"\"Input for the chat endpoint.\"\"\"\n",
    "    human_input: str\n",
    "    \"\"\"Human input\"\"\"\n",
    "    history: list"
   ]
  },
  {
   "cell_type": "code",
   "execution_count": 5,
   "metadata": {},
   "outputs": [],
   "source": [
    "from langchain_core.runnables import ConfigurableFieldSpec\n",
    "from langchain_core.output_parsers import StrOutputParser\n",
    "from langchain_core.runnables.history import RunnableWithMessageHistory\n",
    "from langchain_core.prompts import ChatPromptTemplate, MessagesPlaceholder\n",
    "\n",
    "prompt = ChatPromptTemplate.from_messages(\n",
    "    [\n",
    "        (\"system\", \"You're an assistant by the name of Bob.\"),\n",
    "        MessagesPlaceholder(variable_name=\"history\"),\n",
    "        (\"human\", \"{human_input}\"),\n",
    "    ]\n",
    ")\n",
    "\n",
    "chain = prompt | model | StrOutputParser()\n",
    "\n",
    "chain_with_history = RunnableWithMessageHistory(\n",
    "    chain,\n",
    "    create_session_factory(\"chat_histories\"),\n",
    "    input_messages_key=\"human_input\",\n",
    "    history_messages_key=\"history\",\n",
    "    history_factory_config=[\n",
    "        ConfigurableFieldSpec(\n",
    "            id=\"user_id\",\n",
    "            annotation=str,\n",
    "            name=\"User ID\",\n",
    "            description=\"Unique identifier for the user.\",\n",
    "            default=\"\",\n",
    "            is_shared=True,\n",
    "        ),\n",
    "        ConfigurableFieldSpec(\n",
    "            id=\"conversation_id\",\n",
    "            annotation=str,\n",
    "            name=\"Conversation ID\",\n",
    "            description=\"Unique identifier for the conversation.\",\n",
    "            default=\"\",\n",
    "            is_shared=True,\n",
    "        ),\n",
    "    ],\n",
    ").with_types(input_type=InputChat)"
   ]
  },
  {
   "cell_type": "code",
   "execution_count": 6,
   "metadata": {},
   "outputs": [],
   "source": [
    "config = {\n",
    "    \"user_id\": \"mark\",\n",
    "    \"conversation_id\": \"abc\",\n",
    "}\n",
    "\n",
    "def talk(text: str):\n",
    "    response = chain_with_history.invoke(\n",
    "        input=InputChat(human_input=text),\n",
    "        config=config\n",
    "    )\n",
    "    return response"
   ]
  },
  {
   "cell_type": "code",
   "execution_count": 7,
   "metadata": {},
   "outputs": [
    {
     "data": {
      "text/plain": [
       "\"Hi Mark! It's nice to meet you. How are you doing today?\""
      ]
     },
     "execution_count": 7,
     "metadata": {},
     "output_type": "execute_result"
    }
   ],
   "source": [
    "talk(\"Hello, my name's Mark\")"
   ]
  },
  {
   "cell_type": "code",
   "execution_count": 8,
   "metadata": {},
   "outputs": [
    {
     "data": {
      "text/plain": [
       "\"I'm doing well, thank you for asking! I'm having a great day so far and I'm happy to be of assistance to you. As an AI chatbot, my role is to offer helpful and thorough responses to your queries, so please feel free to ask me anything you'd like. How's your week been so far?\""
      ]
     },
     "execution_count": 8,
     "metadata": {},
     "output_type": "execute_result"
    }
   ],
   "source": [
    "talk(\"Good! Thanks for asking. Wbu?\")"
   ]
  },
  {
   "cell_type": "code",
   "execution_count": 9,
   "metadata": {},
   "outputs": [
    {
     "data": {
      "text/plain": [
       "'The opposite of \"top\" would be \"bottom.\" They are opposites in the sense of position or direction. While \"top\" refers to the uppermost part or highest point, \"bottom\" represents the lowest position or the base. \\n\\nThe words \"top\" and \"bottom\" are often used to describe the spatial relationships of objects or to indicate relative positions in three-dimensional space.'"
      ]
     },
     "execution_count": 9,
     "metadata": {},
     "output_type": "execute_result"
    }
   ],
   "source": [
    "talk(\"What's the opposite of top?\")"
   ]
  }
 ],
 "metadata": {
  "kernelspec": {
   "display_name": "venv",
   "language": "python",
   "name": "python3"
  },
  "language_info": {
   "codemirror_mode": {
    "name": "ipython",
    "version": 3
   },
   "file_extension": ".py",
   "mimetype": "text/x-python",
   "name": "python",
   "nbconvert_exporter": "python",
   "pygments_lexer": "ipython3",
   "version": "3.11.9"
  }
 },
 "nbformat": 4,
 "nbformat_minor": 2
}
